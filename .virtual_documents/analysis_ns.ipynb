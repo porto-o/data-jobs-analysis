


import pandas as pd
import numpy as np
import matplotlib.pyplot as plt
import seaborn as sns

df = pd.read_csv('normal_salaries.csv', index_col=0)

df.head()


sns.catplot(y='salary', data=df, kind='box', col='experience_level')
plt.show()


salary_means = df.groupby('experience_level')['salary'].mean().reset_index()
salary_means


from scipy.stats import kruskal

# Hipótesis: El salario medio aumenta conforme aumenta el nivel de experiencia
# Hipótesis nula: Los salarios no aumentan conforme aumenta el nivel de experiencia

group_junior = df[df['experience_level'] == 'Junior']['salary']
group_intermediate = df[df['experience_level'] == 'Intermediate']['salary']
group_senior = df[df['experience_level'] == 'Senior']['salary']
group_executive = df[df['experience_level'] == 'Executive']['salary']

kruskal_result = kruskal(group_junior, group_intermediate, group_senior, group_executive)

# Se rechaza la hipótesis nula, la media de salarios no es por casualidad
kruskal_result


# Salarios con outliers
juniors_outl = df[(df['salary'] >= 200000) & (df['experience_level'] == 'Junior')].groupby(['job_title', 'work_year'])['salary'].mean().reset_index()

sns.catplot(x='salary', data=juniors_outl, kind='box', col='work_year')
plt.show()

# De 2023 a 2024 aumentó la media de este tipo de empleos para junior
