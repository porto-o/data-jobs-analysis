


import pandas as pd
import numpy as np
import seaborn as sns
import matplotlib.pyplot as plt
from sklearn import preprocessing


df = pd.read_csv("salaries.csv")
dimensions = df.shape

df.head()


df.describe()


def make_displots(columns):
    for column in columns:
        sns.histplot(x=column, data=df)
        plt.show()
        
columns = ['work_year', 'salary_in_usd', 'remote_ratio']
make_displots(columns)


def make_countplots(columns):
    for column in columns:
        ax = sns.countplot(y=column, data=df, order=df[column].value_counts().iloc[:10].index)

        for p in ax.patches:
            width = p.get_width()
            ax.annotate(f'{int(width)}', 
                        (width, p.get_y() + p.get_height() / 2),
                        ha='left',
                        va='center',
                        xytext=(5, 0),
                        textcoords='offset points')

        plt.show()

columns = ['experience_level', 'employment_type', 'job_title', 'company_location', 'company_size', 'employee_residence']
make_countplots(columns)





df.drop(columns=['salary', 'salary_currency'], inplace=True)
df.rename(columns={'salary_in_usd': 'salary'}, inplace=True)


df.drop(df[df['work_year'].isin([2021])].index, inplace=True)


df.drop(df[~df['employment_type'].isin(['FT'])].index, inplace=True)


df['remote_ratio'].replace({
    0: 'In person',
    50: 'Hybrid',
    100: 'Fully remote'
}, inplace=True)

df['experience_level'].replace({
    'EN': 'Junior',
    'MI': 'Intermediate',
    'SE': 'Senior',
    'EX': 'Executive'
}, inplace=True)


sns.boxplot(y='salary', data=df)


# Top salaries seems to be from specialized jobs such as AI, ML or research.
# Independent analysis for top and normal salaries is the suggestion.
# The outliers start from 300,000

high_salaries = df[df['salary'] >= 300000]
normal_salaries = df[df['salary'] <= 300000]

high_salaries.to_csv('high_salaries.csv')
normal_salaries.to_csv('normal_salaries.csv')
