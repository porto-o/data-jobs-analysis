


import pandas as pd
import numpy as np
import matplotlib.pyplot as plt
import seaborn as sns

df = pd.read_csv('normal_salaries.csv', index_col=0)

df.head()


sns.displot(x='salary', data=df, hue='experience_level')
